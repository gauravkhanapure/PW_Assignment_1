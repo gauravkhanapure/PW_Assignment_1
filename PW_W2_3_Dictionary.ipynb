{
  "nbformat": 4,
  "nbformat_minor": 0,
  "metadata": {
    "colab": {
      "provenance": []
    },
    "kernelspec": {
      "name": "python3",
      "display_name": "Python 3"
    },
    "language_info": {
      "name": "python"
    }
  },
  "cells": [
    {
      "cell_type": "markdown",
      "source": [
        "**TIME 01:44:48**"
      ],
      "metadata": {
        "id": "VrP92LYX7sD4"
      }
    },
    {
      "cell_type": "code",
      "execution_count": null,
      "metadata": {
        "colab": {
          "base_uri": "https://localhost:8080/"
        },
        "id": "NZRVRqc924rV",
        "outputId": "307a7a04-7e6f-4ab9-bb90-69b35827188b"
      },
      "outputs": [
        {
          "output_type": "execute_result",
          "data": {
            "text/plain": [
              "['gaurav', 'ram', 'xyz']"
            ]
          },
          "metadata": {},
          "execution_count": 15
        }
      ],
      "source": [
        "l=[\"gaurav\",\"ram\",23,45,5,\"xyz\"]\n",
        "l_num= []\n",
        "l_str= []\n",
        "for i in l:\n",
        "  if type(i) ==  int or type(i) == float:\n",
        "    l_num.append(i)\n",
        "  else:\n",
        "      l_str.append(i)\n",
        "\n",
        "# Now Call l_num and l_str #\n",
        "l_str"
      ]
    },
    {
      "cell_type": "markdown",
      "source": [],
      "metadata": {
        "id": "ozDopHJt7qoR"
      }
    },
    {
      "cell_type": "code",
      "source": [
        "l_num"
      ],
      "metadata": {
        "colab": {
          "base_uri": "https://localhost:8080/"
        },
        "id": "79Wk1I9A58vQ",
        "outputId": "e24ecb36-813f-48f8-cd5c-cc15b8142772"
      },
      "execution_count": null,
      "outputs": [
        {
          "output_type": "execute_result",
          "data": {
            "text/plain": [
              "[23, 45, 5]"
            ]
          },
          "metadata": {},
          "execution_count": 14
        }
      ]
    },
    {
      "cell_type": "markdown",
      "source": [
        ":"
      ],
      "metadata": {
        "id": "uTndo-k-7g8X"
      }
    },
    {
      "cell_type": "markdown",
      "source": [],
      "metadata": {
        "id": "yGqt3p-578dq"
      }
    }
  ]
}